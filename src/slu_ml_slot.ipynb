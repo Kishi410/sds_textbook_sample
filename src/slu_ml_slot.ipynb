{
 "cells": [
  {
   "cell_type": "markdown",
   "metadata": {},
   "source": [
    "# 言語理解（機械学習による方法：スロット値推定）\n",
    "ここでは、言語理解を機械学習による方法で実装します。サンプルのデータセットとしてレストラン検索と天気案内のユーザ発話およびそのアノテーションデータを用意しました。このデータでは既にMeCab（標準搭載の辞書）で単語分割が行われています。それぞれのドメインにおいてスロット値推定を実装します。"
   ]
  },
  {
   "cell_type": "markdown",
   "metadata": {},
   "source": [
    "## 事前の設定\n",
    "- 必要なpythonライブラリ\n",
    "    - scikit-learn\n",
    "    - numpy\n",
    "    - gensim\n",
    "    - sklearn-crfsuite\n",
    "- MeCabのインストール\n",
    "- MeCabをpythonで使用するためのmecab-pythonのインストール\n",
    "- sklearn-crfsuiteとは\n",
    "    - scikit-learnのようなスタイルでCRFを学習するためのライブラリ（crfsuiteのラッパー）\n",
    "    - https://sklearn-crfsuite.readthedocs.io/en/latest/index.html"
   ]
  },
  {
   "cell_type": "markdown",
   "metadata": {},
   "source": [
    "## 機械学習の手順\n",
    "\n",
    "- 処理の手順は以下の通りです。\n",
    "    - データを読み込む\n",
    "    - 学習とテストデータに分割（80対20）\n",
    "    - 入力データを特徴量に変換する\n",
    "    - 出力データをラベルに変換する\n",
    "    - 機械学習ライブラリを用いてモデルを学習する\n",
    "    - 学習したモデルをテストデータで評価する"
   ]
  },
  {
   "cell_type": "code",
   "execution_count": 1,
   "metadata": {
    "tags": []
   },
   "outputs": [],
   "source": [
    "# 必要なラブラリを読み込む\n",
    "\n",
    "import sys, os\n",
    "import re\n",
    "import numpy as np\n",
    "import pickle\n",
    "\n",
    "import sklearn_crfsuite\n",
    "from sklearn_crfsuite import scorers\n",
    "from sklearn_crfsuite import metrics\n",
    "from sklearn.metrics import classification_report\n",
    "\n",
    "import MeCab"
   ]
  },
  {
   "cell_type": "code",
   "execution_count": 2,
   "metadata": {},
   "outputs": [],
   "source": [
    "# 変数の設定\n",
    "\n",
    "NUM_TRAIN = 80      # 100個のデータのうち最初の80個を学習に利用\n",
    "NUM_TEST = 20       # 100個のデータのうち残りの20個をテストに利用"
   ]
  },
  {
   "cell_type": "code",
   "execution_count": 3,
   "metadata": {
    "tags": []
   },
   "outputs": [
    {
     "name": "stdout",
     "output_type": "stream",
     "text": [
      "[['左京', '区', 'の', '明日', 'の', '天気', 'を', '教え', 'て'], ['B-place', 'I-place', 'O', 'B-when', 'O', 'O', 'O', 'O', 'O']]\n",
      "[['兵庫', 'の', '雨', 'は', '止ん', 'で', 'い', 'ます', 'か'], ['B-place', 'O', 'B-type', 'I-type', 'I-type', 'O', 'O', 'O', 'O']]\n"
     ]
    }
   ],
   "source": [
    "# データを読み込む\n",
    "\n",
    "# 使用するドメインを設定する\n",
    "USED_DATASET = 1    # 0: 'restaurant', 1: 'weather'\n",
    "\n",
    "if USED_DATASET == 0:\n",
    "    # レストランデータ\n",
    "    with open('./data/slu-restaurant-annotated.csv', 'r', encoding='utf-8') as f:\n",
    "        lines = f.readlines()\n",
    "    \n",
    "    # 正解ラベルの一覧\n",
    "    LABELS = [\n",
    "        'B-budget', 'I-budget',\n",
    "        'B-mood', 'I-mood',\n",
    "        'B-loc', 'I-loc',\n",
    "        'B-genre', 'I-genre',\n",
    "        'B-style', 'I-style',\n",
    "        'B-rate', 'I-rate',\n",
    "        'O'\n",
    "    ]\n",
    "\n",
    "    SAVED_MODEL = './data/slu-slot-restaurant-crf.model'\n",
    "\n",
    "elif USED_DATASET == 1:\n",
    "    # 天気案内\n",
    "    with open('./data/slu-weather-annotated.csv', 'r', encoding='utf-8') as f:\n",
    "        lines = f.readlines()\n",
    "    \n",
    "    LABELS = [\n",
    "        'B-wh', 'I-wh',\n",
    "        'B-place', 'I-place',\n",
    "        'B-when', 'I-when',\n",
    "        'B-type', 'I-type',\n",
    "        'B-temp', 'I-temp',\n",
    "        'B-rain', 'I-rain',\n",
    "        'B-wind', 'I-wind',\n",
    "        'O'\n",
    "    ]\n",
    "\n",
    "    SAVED_MODEL = './data/slu-slot-weather-crf.model'\n",
    "\n",
    "# 学習とテストデータに分割（80対20）\n",
    "# 注）本来は交差検定を行うことが望ましい\n",
    "lines_train = lines[:NUM_TRAIN]\n",
    "lines_test = lines[NUM_TRAIN:]\n",
    "\n",
    "data_train = []\n",
    "for line in lines_train:\n",
    "\n",
    "    # 既に分割済みの単語系列を使用\n",
    "    d = line.strip().split(',')[2].split('/')\n",
    "\n",
    "    # 正解ラベルの系列\n",
    "    a = line.strip().split(',')[3].split('/')\n",
    "    \n",
    "    # 入力単語系列と正解ラベル系列のペアを格納\n",
    "    data_train.append([d, a])\n",
    "\n",
    "# テストデータも同様\n",
    "data_test = []\n",
    "for line in lines_test:\n",
    "    d = line.strip().split(',')[2].split('/')\n",
    "    a = line.strip().split(',')[3].split('/')\n",
    "    data_test.append([d, a])\n",
    "\n",
    "# 最初のデータだけ表示\n",
    "print(data_train[0])\n",
    "print(data_test[0])\n"
   ]
  },
  {
   "cell_type": "code",
   "execution_count": 4,
   "metadata": {
    "tags": []
   },
   "outputs": [
    {
     "name": "stdout",
     "output_type": "stream",
     "text": [
      "80\n"
     ]
    }
   ],
   "source": [
    "# 入力と正解ラベルで別々のデータにする\n",
    "# 注）sklearn-crfsuiteのOne-hot表現は単語データをそのまま入力すればよい\n",
    "train_x = [d[0] for d in data_train]\n",
    "train_y = [d[1] for d in data_train]\n",
    "\n",
    "# 学習サンプル数\n",
    "print(len(train_x))"
   ]
  },
  {
   "cell_type": "code",
   "execution_count": 5,
   "metadata": {},
   "outputs": [],
   "source": [
    "# CRFによる学習\n",
    "# 注）実際にはパラメータの調整が必要だが今回は行わない\n",
    "clf = sklearn_crfsuite.CRF()\n",
    "clf.fit(train_x, train_y) \n",
    "\n",
    "# 学習済みモデルを保存\n",
    "pickle.dump(clf, open(SAVED_MODEL, 'wb'))"
   ]
  },
  {
   "cell_type": "code",
   "execution_count": 6,
   "metadata": {
    "tags": []
   },
   "outputs": [
    {
     "name": "stdout",
     "output_type": "stream",
     "text": [
      "20\n"
     ]
    }
   ],
   "source": [
    "# テストデータの作成\n",
    "test_x = [d[0] for d in data_test]\n",
    "test_y = [d[1] for d in data_test]\n",
    "\n",
    "# テストサンプル数\n",
    "print(len(test_x))"
   ]
  },
  {
   "cell_type": "code",
   "execution_count": 7,
   "metadata": {
    "tags": []
   },
   "outputs": [
    {
     "name": "stdout",
     "output_type": "stream",
     "text": [
      "              precision    recall  f1-score   support\n",
      "\n",
      "        B-wh       0.83      0.62      0.71         8\n",
      "        I-wh       1.00      0.69      0.82        13\n",
      "     B-place       1.00      0.88      0.93         8\n",
      "     I-place       0.00      0.00      0.00         0\n",
      "      B-when       0.81      0.93      0.87        14\n",
      "      I-when       0.00      0.00      0.00         1\n",
      "      B-type       1.00      0.90      0.95        10\n",
      "      I-type       0.00      0.00      0.00         2\n",
      "      B-temp       0.00      0.00      0.00         5\n",
      "      I-temp       0.00      0.00      0.00         3\n",
      "      B-rain       1.00      1.00      1.00         1\n",
      "      I-rain       1.00      1.00      1.00         1\n",
      "      B-wind       0.00      0.00      0.00         3\n",
      "      I-wind       0.00      0.00      0.00         3\n",
      "           O       0.77      0.99      0.87        82\n",
      "\n",
      "   micro avg       0.82      0.82      0.82       154\n",
      "   macro avg       0.49      0.47      0.48       154\n",
      "weighted avg       0.74      0.82      0.77       154\n",
      "\n"
     ]
    },
    {
     "name": "stderr",
     "output_type": "stream",
     "text": [
      "C:\\Users\\inoue\\anaconda3\\lib\\site-packages\\sklearn\\utils\\validation.py:70: FutureWarning: Pass labels=['B-wh', 'I-wh', 'B-place', 'I-place', 'B-when', 'I-when', 'B-type', 'I-type', 'B-temp', 'I-temp', 'B-rain', 'I-rain', 'B-wind', 'I-wind', 'O'] as keyword args. From version 1.0 (renaming of 0.25) passing these as positional arguments will result in an error\n",
      "  warnings.warn(f\"Pass {args_msg} as keyword args. From version \"\n",
      "C:\\Users\\inoue\\anaconda3\\lib\\site-packages\\sklearn\\metrics\\_classification.py:1245: UndefinedMetricWarning: Precision and F-score are ill-defined and being set to 0.0 in labels with no predicted samples. Use `zero_division` parameter to control this behavior.\n",
      "  _warn_prf(average, modifier, msg_start, len(result))\n",
      "C:\\Users\\inoue\\anaconda3\\lib\\site-packages\\sklearn\\metrics\\_classification.py:1245: UndefinedMetricWarning: Recall and F-score are ill-defined and being set to 0.0 in labels with no true samples. Use `zero_division` parameter to control this behavior.\n",
      "  _warn_prf(average, modifier, msg_start, len(result))\n",
      "C:\\Users\\inoue\\anaconda3\\lib\\site-packages\\sklearn\\metrics\\_classification.py:1245: UndefinedMetricWarning: Precision and F-score are ill-defined and being set to 0.0 in labels with no predicted samples. Use `zero_division` parameter to control this behavior.\n",
      "  _warn_prf(average, modifier, msg_start, len(result))\n",
      "C:\\Users\\inoue\\anaconda3\\lib\\site-packages\\sklearn\\metrics\\_classification.py:1245: UndefinedMetricWarning: Recall and F-score are ill-defined and being set to 0.0 in labels with no true samples. Use `zero_division` parameter to control this behavior.\n",
      "  _warn_prf(average, modifier, msg_start, len(result))\n",
      "C:\\Users\\inoue\\anaconda3\\lib\\site-packages\\sklearn\\metrics\\_classification.py:1245: UndefinedMetricWarning: Precision and F-score are ill-defined and being set to 0.0 in labels with no predicted samples. Use `zero_division` parameter to control this behavior.\n",
      "  _warn_prf(average, modifier, msg_start, len(result))\n",
      "C:\\Users\\inoue\\anaconda3\\lib\\site-packages\\sklearn\\metrics\\_classification.py:1245: UndefinedMetricWarning: Recall and F-score are ill-defined and being set to 0.0 in labels with no true samples. Use `zero_division` parameter to control this behavior.\n",
      "  _warn_prf(average, modifier, msg_start, len(result))\n"
     ]
    }
   ],
   "source": [
    "# テストデータでの評価\n",
    "predict_y = clf.predict(test_x)\n",
    "\n",
    "# 評価結果を表示\n",
    "print(metrics.flat_classification_report(test_y, predict_y, labels=LABELS))\n"
   ]
  },
  {
   "cell_type": "code",
   "execution_count": 8,
   "metadata": {
    "tags": []
   },
   "outputs": [
    {
     "name": "stdout",
     "output_type": "stream",
     "text": [
      "横浜\tB-place\n",
      "の\tO\n",
      "今日\tB-when\n",
      "の\tO\n",
      "天気\tO\n"
     ]
    }
   ],
   "source": [
    "# 自由なデータで試してみる\n",
    "\n",
    "# 入力データ\n",
    "#input_data = 'この辺りであっさりした四川料理のお店に行きたい'\n",
    "input_data = '横浜の今日の天気'\n",
    "\n",
    "# MeCabによる分割と特徴量抽出\n",
    "m = MeCab.Tagger (\"-Owakati\")\n",
    "words_input = m.parse(input_data).strip().split(' ')\n",
    "\n",
    "# 予測\n",
    "predict_y = clf.predict([words_input])[0]\n",
    "for word, tag in zip(words_input, predict_y):\n",
    "    print(word + \"\\t\" + tag)"
   ]
  }
 ],
 "metadata": {
  "kernelspec": {
   "display_name": "Python 3",
   "language": "python",
   "name": "python3"
  },
  "language_info": {
   "codemirror_mode": {
    "name": "ipython",
    "version": 3
   },
   "file_extension": ".py",
   "mimetype": "text/x-python",
   "name": "python",
   "nbconvert_exporter": "python",
   "pygments_lexer": "ipython3",
   "version": "3.8.8"
  }
 },
 "nbformat": 4,
 "nbformat_minor": 2
}
