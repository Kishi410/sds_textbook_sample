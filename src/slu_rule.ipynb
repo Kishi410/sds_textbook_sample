{
 "cells": [
  {
   "cell_type": "markdown",
   "metadata": {},
   "source": [
    "# 言語理解（ルールによる方法）\n",
    "ここでは、言語理解を実装します。まずはルールによる方法で行います。扱う方法は、意味文法と意味・格フレームです。"
   ]
  },
  {
   "cell_type": "markdown",
   "metadata": {},
   "source": [
    "## 事前の設定\n",
    "- MeCabのインストール\n",
    "- MeCabをpythonで使用するためのmecab-pythonのインストール"
   ]
  },
  {
   "cell_type": "code",
   "execution_count": 1,
   "metadata": {},
   "outputs": [],
   "source": [
    "# 必要なラブラリを読み込む\n",
    "import re"
   ]
  },
  {
   "cell_type": "code",
   "execution_count": 2,
   "metadata": {},
   "outputs": [
    {
     "name": "stdout",
     "output_type": "stream",
     "text": [
      "京都のおいしいラーメンを教えてください\n",
      "今出川の近くでイタリアンはありますか\n",
      "味亭の営業時間を教えて\n",
      "割烹井上は何時から開いていますか\n",
      "近くにおいしいそば屋はありますか\n",
      "2000円以下で\n"
     ]
    }
   ],
   "source": [
    "# 入力データを読み込む\n",
    "\n",
    "with open('./data/slu-sample-input.txt', 'r', encoding='utf-8') as f:\n",
    "    lines = f.readlines()\n",
    "\n",
    "list_input_data = []\n",
    "for line in lines:\n",
    "    if not line.strip():\n",
    "        continue\n",
    "    list_input_data.append(line.strip())\n",
    "    \n",
    "    print(line.strip())"
   ]
  },
  {
   "cell_type": "markdown",
   "metadata": {},
   "source": [
    "## 意味文法による方法\n",
    "まずは，意味文法を実装して、それに対して入力文をあてはめてみます。ここでは正規表現を使って実装します。\n",
    "- 正規表現について下記が参考になります。\n",
    "    - 参考：https://qiita.com/luohao0404/items/7135b2b96f9b0b196bf3"
   ]
  },
  {
   "cell_type": "code",
   "execution_count": 3,
   "metadata": {},
   "outputs": [
    {
     "name": "stdout",
     "output_type": "stream",
     "text": [
      "find : (京都|今出川)の(おいしい|美味しい)(ラーメン|イタリアン|そば屋|そば)を(教えてください|教えて|教えてほしい)\n",
      "find : (京都|今出川)の(近く|辺り)で(ラーメン|イタリアン|そば屋|そば)は(ありますか|ありませんか)\n",
      "find : Nothing\n",
      "time : (味亭|割烹井上)の営業時間を(教えてください|教えて|教えてほしい)\n",
      "time : (味亭|割烹井上)は(何時から|何時まで)(ですか|開いていますか)\n"
     ]
    }
   ],
   "source": [
    "# 文法を定義する\n",
    "\n",
    "# 要素の列挙\n",
    "place = '(京都|今出川)'\n",
    "genre = '(ラーメン|イタリアン|そば屋|そば)'\n",
    "tellme = '(教えてください|教えて|教えてほしい)'\n",
    "near = '(近く|辺り)'\n",
    "there = '(ありますか|ありませんか)'\n",
    "name = '(味亭|割烹井上)'\n",
    "\n",
    "time_open = '営業時間'\n",
    "time_from = '何時から'\n",
    "time_until = '何時まで'\n",
    "time_from_until = '(' + time_from + '|' + time_until + ')'\n",
    "\n",
    "# 文法１（レストラン検索）\n",
    "grammar1_1 = place + 'の(おいしい|美味しい)' + genre + 'を' + tellme\n",
    "grammar1_2 = place + 'の' + near + 'で' + genre + 'は' + there\n",
    "\n",
    "#\n",
    "# 課題１　「近くにおいしいそば屋はありますか」がマッチするような文法を書いてみましょう\n",
    "#\n",
    "grammar1_3 = 'Nothing'\n",
    "\n",
    "# 文法２（営業時間検索）\n",
    "grammar2_1 = name + 'の' + time_open + 'を' + tellme\n",
    "grammar2_2 = name + 'は' + time_from_until + '(ですか|開いていますか)'\n",
    "\n",
    "# 文法３\n",
    "\n",
    "# ユーザの意図と対応させる\n",
    "grammars = [\n",
    "    ['find', grammar1_1],\n",
    "    ['find', grammar1_2],\n",
    "    ['find', grammar1_3],   # 課題１用\n",
    "    ['time', grammar2_1],\n",
    "    ['time', grammar2_2]\n",
    "]\n",
    "\n",
    "for grammar in grammars:\n",
    "    print(grammar[0] + ' : ' + grammar[1])"
   ]
  },
  {
   "cell_type": "code",
   "execution_count": 4,
   "metadata": {
    "scrolled": true
   },
   "outputs": [
    {
     "name": "stdout",
     "output_type": "stream",
     "text": [
      "入力：京都のおいしいラーメンを教えてください\n",
      "マッチ: find: (京都|今出川)の(おいしい|美味しい)(ラーメン|イタリアン|そば屋|そば)を(教えてください|教えて|教えてほしい)\n",
      "\n",
      "入力：今出川の近くでイタリアンはありますか\n",
      "マッチ: find: (京都|今出川)の(近く|辺り)で(ラーメン|イタリアン|そば屋|そば)は(ありますか|ありませんか)\n",
      "\n",
      "入力：味亭の営業時間を教えて\n",
      "マッチ: time: (味亭|割烹井上)の営業時間を(教えてください|教えて|教えてほしい)\n",
      "\n",
      "入力：割烹井上は何時から開いていますか\n",
      "マッチ: time: (味亭|割烹井上)は(何時から|何時まで)(ですか|開いていますか)\n",
      "\n",
      "入力：近くにおいしいそば屋はありますか\n",
      "マッチなし\n",
      "\n",
      "入力：2000円以下で\n",
      "マッチなし\n",
      "\n"
     ]
    }
   ],
   "source": [
    "# 入力文をマッチさせてみる\n",
    "for data in list_input_data:\n",
    "    \n",
    "    print('入力：' + data)\n",
    "    \n",
    "    matched = False\n",
    "    \n",
    "    # 文法ごとにチェック\n",
    "    for grammar in grammars:\n",
    "        \n",
    "        # 入力文が文法に完全マッチするかチェック\n",
    "        result = re.match(grammar[1], data)\n",
    "        \n",
    "        # 文法にマッチした場合\n",
    "        if result is not None:\n",
    "            \n",
    "            # 意図とマッチした文法を取得\n",
    "            intent = grammar[0]\n",
    "            grammer_matched = grammar[1]\n",
    "            print('マッチ: ' + intent + ': ' + grammer_matched)\n",
    "            matched = True\n",
    "    \n",
    "    if matched == False:\n",
    "        print('マッチなし')\n",
    "    \n",
    "    print()"
   ]
  },
  {
   "cell_type": "code",
   "execution_count": 5,
   "metadata": {},
   "outputs": [
    {
     "name": "stdout",
     "output_type": "stream",
     "text": [
      "入力：京都のおいしいラーメンを教えてください\n",
      "find : place : 京都\n",
      "find : genre : ラーメン\n",
      "\n",
      "入力：今出川の近くでイタリアンはありますか\n",
      "find : place : 今出川\n",
      "find : genre : イタリアン\n",
      "\n",
      "入力：味亭の営業時間を教えて\n",
      "time : name : 味亭\n",
      "time : open : 営業時間\n",
      "\n",
      "入力：割烹井上は何時から開いていますか\n",
      "time : name : 割烹井上\n",
      "time : from : 何時から\n",
      "\n",
      "入力：近くにおいしいそば屋はありますか\n",
      "マッチなし\n",
      "\n",
      "入力：2000円以下で\n",
      "マッチなし\n",
      "\n"
     ]
    }
   ],
   "source": [
    "# マッチしたら要素を抜き出す\n",
    "\n",
    "# 抜き出す要素を定義\n",
    "grammar_extract = {\n",
    "    \n",
    "    # 文法１\n",
    "    'find': [\n",
    "        ['place', place],\n",
    "        ['genre', genre],\n",
    "    ],\n",
    "    \n",
    "    # 文法２\n",
    "    'time': [\n",
    "        ['name', name],\n",
    "        ['open', time_open],\n",
    "        ['from', time_from],\n",
    "        ['until', time_until],\n",
    "    ]\n",
    "}\n",
    "\n",
    "for data in list_input_data:\n",
    "    \n",
    "    print('入力：' + data)\n",
    "    \n",
    "    matched = False\n",
    "    \n",
    "    # 文法ごとにチェック\n",
    "    for grammar in grammars:\n",
    "        \n",
    "        # 入力文が文法に完全マッチするかチェック\n",
    "        result = re.match(grammar[1], data)\n",
    "        \n",
    "        # 文法にマッチした場合\n",
    "        if result is not None:\n",
    "            \n",
    "            matched = True\n",
    "            \n",
    "            # 文法にマッチしたら要素を抜き出す\n",
    "            intent = grammar[0]\n",
    "            for extract_pattern in grammar_extract[intent]:\n",
    "                \n",
    "                slot_name = extract_pattern[0]\n",
    "                rule = extract_pattern[1]\n",
    "                \n",
    "                # 要素抽出を試みる\n",
    "                result = re.findall(extract_pattern[1], data)\n",
    "                if len(result) >= 1:\n",
    "                    slot_value = result[0]\n",
    "                \n",
    "                    # 意図名、スロット名、スロット値を表示\n",
    "                    print(intent + ' : ' + slot_name + ' : ' + slot_value)\n",
    "            \n",
    "            \n",
    "    \n",
    "    if matched == False:\n",
    "        print('マッチなし')\n",
    "    \n",
    "    print()"
   ]
  },
  {
   "cell_type": "markdown",
   "metadata": {},
   "source": [
    "## 意味・格フレームによる方法\n",
    "文法が発話の統語構造の一部を規定するのに対して、全く規定しない方法として意味・格フレームによる方法があります。ここでも正規表現を使って実装します。また、こちらの例ではユーザの意図は考慮せずにフレームのマッチングを行います。"
   ]
  },
  {
   "cell_type": "code",
   "execution_count": 6,
   "metadata": {},
   "outputs": [
    {
     "name": "stdout",
     "output_type": "stream",
     "text": [
      "place : (京都|今出川)\n",
      "genre : (ラーメン|イタリアン|そば)\n",
      "name : (味亭|割烹井上)\n",
      "time_open : 営業時間\n",
      "time_from : 何時から\n",
      "time_until : 何時まで\n",
      "budget : Nothing\n"
     ]
    }
   ],
   "source": [
    "# 意味フレームの列挙\n",
    "place = '(京都|今出川)'\n",
    "genre = '(ラーメン|イタリアン|そば)'\n",
    "name = '(味亭|割烹井上)'\n",
    "time_open = '営業時間'\n",
    "time_from = '何時から'\n",
    "time_until = '何時まで'\n",
    "\n",
    "# 課題２　意味フレーム「2000円以下」などの予算を抽出する要素を追加しましょう\n",
    "budget = 'Nothing'\n",
    "\n",
    "# 各フレームの意味と対応させる\n",
    "# ここにユーザ意図の種類を記述しておくことも可能\n",
    "frames = [\n",
    "    ['place', place],\n",
    "    ['genre', genre],\n",
    "    ['name', name],\n",
    "    ['time_open', time_open],\n",
    "    ['time_from', time_from],\n",
    "    ['time_until', time_until],\n",
    "    ['budget', budget]  # 課題２用\n",
    "]\n",
    "\n",
    "for frame in frames:\n",
    "    print(frame[0] + ' : ' + frame[1])"
   ]
  },
  {
   "cell_type": "code",
   "execution_count": 7,
   "metadata": {},
   "outputs": [
    {
     "name": "stdout",
     "output_type": "stream",
     "text": [
      "入力：京都のおいしいラーメンを教えてください\n",
      "place : 京都\n",
      "genre : ラーメン\n",
      "\n",
      "入力：今出川の近くでイタリアンはありますか\n",
      "place : 今出川\n",
      "genre : イタリアン\n",
      "\n",
      "入力：味亭の営業時間を教えて\n",
      "name : 味亭\n",
      "time_open : 営業時間\n",
      "\n",
      "入力：割烹井上は何時から開いていますか\n",
      "name : 割烹井上\n",
      "time_from : 何時から\n",
      "\n",
      "入力：近くにおいしいそば屋はありますか\n",
      "genre : そば\n",
      "\n",
      "入力：2000円以下で\n",
      "マッチなし\n",
      "\n"
     ]
    }
   ],
   "source": [
    "# 入力文をマッチさせてみる\n",
    "for data in list_input_data:\n",
    "    \n",
    "    print('入力：' + data)\n",
    "    \n",
    "    matched = False\n",
    "    \n",
    "    # フレームごとにチェック\n",
    "    for frame in frames:\n",
    "        \n",
    "        # フレームが入力文に部分マッチするかチェック\n",
    "        result = re.search(frame[1], data)\n",
    "        \n",
    "        if result is not None:\n",
    "            meaning = frame[0]\n",
    "            frame_matched = frame[1]\n",
    "            \n",
    "            # マッチした要素（フレーム値）も取り出す\n",
    "            slot_value = result.group()\n",
    "            \n",
    "            # フレーム名，フレーム値を表示\n",
    "            print(meaning + ' : ' + slot_value)\n",
    "            \n",
    "            matched = True\n",
    "    \n",
    "    if matched == False:\n",
    "        print('マッチなし')\n",
    "    \n",
    "    print()"
   ]
  }
 ],
 "metadata": {
  "kernelspec": {
   "display_name": "Python 3.8.8 ('base')",
   "language": "python",
   "name": "python3"
  },
  "language_info": {
   "codemirror_mode": {
    "name": "ipython",
    "version": 3
   },
   "file_extension": ".py",
   "mimetype": "text/x-python",
   "name": "python",
   "nbconvert_exporter": "python",
   "pygments_lexer": "ipython3",
   "version": "3.8.8"
  },
  "vscode": {
   "interpreter": {
    "hash": "1a2eb5a09c124a414d0c803e7aaa7d348a03abaadc97f67347894a4c53feba33"
   }
  }
 },
 "nbformat": 4,
 "nbformat_minor": 2
}
